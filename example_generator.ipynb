{
 "cells": [
  {
   "cell_type": "code",
   "execution_count": 1,
   "metadata": {},
   "outputs": [],
   "source": [
    "from constructor import templated_methods as tm\n",
    "from constructor.utils import WordGenerator, functions as utils_functions\n",
    "from constructor import Routine, Event\n",
    "import json\n",
    "import os"
   ]
  },
  {
   "cell_type": "code",
   "execution_count": 2,
   "metadata": {},
   "outputs": [],
   "source": [
    "routine = Routine(json.load(open(\"example.json\")))\n",
    "wg = WordGenerator()"
   ]
  },
  {
   "cell_type": "code",
   "execution_count": 3,
   "metadata": {},
   "outputs": [],
   "source": [
    "properties = [\"count\", \"start_time\", \"duration\"]"
   ]
  },
  {
   "cell_type": "code",
   "execution_count": 4,
   "metadata": {},
   "outputs": [
    {
     "data": {
      "text/plain": [
       "'the resident played music at 06:51 for 27 minutes. the resident got dressed at 07:18 for 10 minutes. the resident brushed their teeth at 07:48 for 16 minutes. the resident left home at 08:04 for 5 hours and 40 minutes. the resident came home at 13:44. the resident read at 14:01 for 2 hours and 13 minutes. the resident ate dinner at 16:54 for 1 hour and 42 minutes. the resident watched tv at 18:36 for 1 hour and 7 minutes. the resident brushed their teeth at 21:03 for 14 minutes. the resident watched tv at 22:37 for 1 hour and 50 minutes.'"
      ]
     },
     "execution_count": 4,
     "metadata": {},
     "output_type": "execute_result"
    }
   ],
   "source": [
    "\" \".join(tm.stringiy_routine_sequentially(routine, wg, properties))"
   ]
  },
  {
   "cell_type": "code",
   "execution_count": 12,
   "metadata": {},
   "outputs": [
    {
     "data": {
      "text/plain": [
       "'the resident played music at 06:51 for 27 minutes, got dressed at 07:18 for 10 minutes, brushed their teeth at 07:48 for 16 minutes, left home at 08:04 for 5 hours and 40 minutes, came home at 13:44, read at 14:01 for 2 hours and 13 minutes, ate dinner at 16:54 for 1 hour and 42 minutes, watched tv at 18:36 for 1 hour and 7 minutes, brushed teeth at 21:03 for 14 minutes, and watched tv at 22:37 for 1 hour and 50 minutes'"
      ]
     },
     "execution_count": 12,
     "metadata": {},
     "output_type": "execute_result"
    }
   ],
   "source": [
    "summary = \"the resident \"\n",
    "sentences = tm.stringiy_routine_sequentially(routine, wg, properties, name=\"\")\n",
    "summary += utils_functions.list_objects_in_str([s[:-1] for s in sentences])\n",
    "summary"
   ]
  },
  {
   "cell_type": "markdown",
   "metadata": {},
   "source": [
    "## In Aggregate"
   ]
  },
  {
   "cell_type": "code",
   "execution_count": 6,
   "metadata": {},
   "outputs": [
    {
     "data": {
      "text/plain": [
       "'the resident played music for 1 time at 06:51 for 27 minutes. the resident got dressed for 1 time at 07:18 for 10 minutes. the resident brushed their teeth for 2 times at 07:48 and 21:03 for 30 minutes. the resident left home for 1 time at 08:04 for 5 hours and 40 minutes. the resident came home for 1 time at 13:44. the resident read for 1 time at 14:01 for 2 hours and 13 minutes. the resident ate dinner for 1 time at 16:54 for 1 hour and 42 minutes. the resident watched tv for 2 times at 18:36 and 22:37.'"
      ]
     },
     "execution_count": 6,
     "metadata": {},
     "output_type": "execute_result"
    }
   ],
   "source": [
    "\" \".join(tm.stringify_routine_in_aggregate(routine, wg, properties, properties))"
   ]
  },
  {
   "cell_type": "code",
   "execution_count": 7,
   "metadata": {},
   "outputs": [
    {
     "data": {
      "text/plain": [
       "'the resident played music for 1 time at 06:51 for 27 minutes, got dressed for 1 time at 07:18 for 10 minutes, brushed their teeth for 2 times at 07:48 and 21:03 for 30 minutes, left home for 1 time at 08:04 for 5 hours and 40 minutes, came home for 1 time at 13:44, read for 1 time at 14:01 for 2 hours and 13 minutes, had dinner for 1 time at 16:54 for 1 hour and 42 minutes, and watched tv for 2 times at 18:36 and 22:37'"
      ]
     },
     "execution_count": 7,
     "metadata": {},
     "output_type": "execute_result"
    }
   ],
   "source": [
    "summary = \"the resident \"\n",
    "sentences = tm.stringify_routine_in_aggregate(routine, wg, properties, properties, name=\"\")\n",
    "summary += utils_functions.list_objects_in_str([s[:-1] for s in sentences])\n",
    "summary"
   ]
  },
  {
   "cell_type": "markdown",
   "metadata": {},
   "source": [
    "# Focus"
   ]
  },
  {
   "cell_type": "code",
   "execution_count": 8,
   "metadata": {},
   "outputs": [],
   "source": [
    "focus_activities = [\"watching_tv\", \"dinner\"]\n",
    "properties = [\"start_time\", \"duration\"]"
   ]
  },
  {
   "cell_type": "code",
   "execution_count": 9,
   "metadata": {},
   "outputs": [
    {
     "data": {
      "text/plain": [
       "'the resident had dinner at 16:54 for 1 hour and 42 minutes and watched tv at 18:36 and 22:37'"
      ]
     },
     "execution_count": 9,
     "metadata": {},
     "output_type": "execute_result"
    }
   ],
   "source": [
    "summary = \"the resident \"\n",
    "sentences = tm.stringify_routine_in_aggregate(routine, wg, properties, properties, focus_activity_names=focus_activities, name=\"\")\n",
    "summary += utils_functions.list_objects_in_str([s[:-1] for s in sentences])\n",
    "summary"
   ]
  },
  {
   "cell_type": "markdown",
   "metadata": {},
   "source": [
    "## Priority + Focus"
   ]
  },
  {
   "cell_type": "code",
   "execution_count": 16,
   "metadata": {},
   "outputs": [
    {
     "data": {
      "text/plain": [
       "'the resident ate dinner at 16:54 for 1 hour and 42 minutes. besides that, brushed their teeth at 07:48 and 21:03 for 30 minutes and left home at 08:04 for 5 hours and 40 minutes'"
      ]
     },
     "execution_count": 16,
     "metadata": {},
     "output_type": "execute_result"
    }
   ],
   "source": [
    "priority_1 = [\"dinner\"]\n",
    "priority_2 = [\"brushing_teeth\", \"leave_home\", \"coming_home\"]\n",
    "properties = [\"start_time\", \"duration\"]\n",
    "\n",
    "summary = \"the resident \"\n",
    "sentences = tm.stringify_routine_in_aggregate(routine, wg, properties, properties, focus_activity_names=priority_1, name=\"\")\n",
    "sentences2 = tm.stringify_routine_in_aggregate(routine, wg, properties, properties, focus_activity_names=priority_2, name=\"\")\n",
    "\n",
    "summary += utils_functions.list_objects_in_str([s[:-1] for s in sentences])\n",
    "summary += \". besides that, \"\n",
    "summary += utils_functions.list_objects_in_str([s[:-1] for s in sentences2])\n",
    "\n",
    "summary"
   ]
  }
 ],
 "metadata": {
  "kernelspec": {
   "display_name": "Python 3.8.13 ('summarization')",
   "language": "python",
   "name": "python3"
  },
  "language_info": {
   "codemirror_mode": {
    "name": "ipython",
    "version": 3
   },
   "file_extension": ".py",
   "mimetype": "text/x-python",
   "name": "python",
   "nbconvert_exporter": "python",
   "pygments_lexer": "ipython3",
   "version": "3.8.13"
  },
  "orig_nbformat": 4,
  "vscode": {
   "interpreter": {
    "hash": "5030c7a638ca5bc23b0ee0c35355e99bee891de73eee4c8b4ac721e8d31354f1"
   }
  }
 },
 "nbformat": 4,
 "nbformat_minor": 2
}
