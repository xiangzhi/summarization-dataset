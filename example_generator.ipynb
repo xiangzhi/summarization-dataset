{
 "cells": [
  {
   "cell_type": "code",
   "execution_count": 23,
   "metadata": {},
   "outputs": [],
   "source": [
    "from constructor import templated_methods as tm\n",
    "from constructor.utils import WordGenerator, functions as utils_functions\n",
    "from constructor import Routine, Event\n",
    "import json\n",
    "import os"
   ]
  },
  {
   "cell_type": "code",
   "execution_count": 24,
   "metadata": {},
   "outputs": [],
   "source": [
    "routine = Routine(json.load(open(\"example.json\")))\n",
    "wg = WordGenerator()"
   ]
  },
  {
   "cell_type": "code",
   "execution_count": 25,
   "metadata": {},
   "outputs": [],
   "source": [
    "properties = [\"duration\"]"
   ]
  },
  {
   "cell_type": "code",
   "execution_count": 26,
   "metadata": {},
   "outputs": [
    {
     "data": {
      "text/plain": [
       "'the resident played music for 27 minutes. the resident got dressed for 10 minutes. the resident brushed teeth for 16 minutes. the resident left home for 10 minutes. the resident came home for 7 minutes. the resident read for 2 hours and 13 minutes. the resident ate dinner for 1 hour and 42 minutes. the resident watched tv for 1 hour and 7 minutes. the resident brushed their teeth for 14 minutes. the resident watched tv for 1 hour and 50 minutes.'"
      ]
     },
     "execution_count": 26,
     "metadata": {},
     "output_type": "execute_result"
    }
   ],
   "source": [
    "\" \".join(tm.stringifyRoutineSequentially(routine, wg, properties))"
   ]
  },
  {
   "cell_type": "code",
   "execution_count": 27,
   "metadata": {},
   "outputs": [
    {
     "data": {
      "text/plain": [
       "'the resident played music for 27 minutes, got dressed for 10 minutes, brushed teeth for 16 minutes, left home for 10 minutes, came home for 7 minutes, read for 2 hours and 13 minutes, ate dinner for 1 hour and 42 minutes, watched tv for 1 hour and 7 minutes, brushed their teeth for 14 minutes, and watched tv for 1 hour and 50 minutes'"
      ]
     },
     "execution_count": 27,
     "metadata": {},
     "output_type": "execute_result"
    }
   ],
   "source": [
    "summary = \"the resident \"\n",
    "sentences = tm.stringifyRoutineSequentially(routine, wg, properties, \"\")\n",
    "summary += utils_functions.list_objects_in_str([s[:-1] for s in sentences])\n",
    "summary"
   ]
  },
  {
   "cell_type": "markdown",
   "metadata": {},
   "source": [
    "## In Aggregate"
   ]
  },
  {
   "cell_type": "code",
   "execution_count": 28,
   "metadata": {},
   "outputs": [
    {
     "data": {
      "text/plain": [
       "'the resident played music for 27 minutes. the resident got dressed for 10 minutes. the resident brushed teeth for 16 minutes and 14 minutes. the resident left home for 10 minutes. the resident came home for 7 minutes. the resident read for 2 hours and 13 minutes. the resident ate dinner for 1 hour and 42 minutes. the resident watched tv for 1 hour and 7 minutes and 1 hour and 50 minutes.'"
      ]
     },
     "execution_count": 28,
     "metadata": {},
     "output_type": "execute_result"
    }
   ],
   "source": [
    "\" \".join(tm.stringifyRoutineInAggregate(routine, wg, properties properties, ))"
   ]
  },
  {
   "cell_type": "code",
   "execution_count": 29,
   "metadata": {},
   "outputs": [
    {
     "data": {
      "text/plain": [
       "'the resident played music for 27 minutes, got dressed for 10 minutes, brushed teeth for 16 minutes and 14 minutes, left home for 10 minutes, came home for 7 minutes, read for 2 hours and 13 minutes, ate dinner for 1 hour and 42 minutes, and watched tv for 1 hour and 7 minutes and 1 hour and 50 minutes'"
      ]
     },
     "execution_count": 29,
     "metadata": {},
     "output_type": "execute_result"
    }
   ],
   "source": [
    "summary = \"the resident \"\n",
    "sentences = tm.stringifyRoutineInAggregate(routine, wg, properties, properties, name=\"\")\n",
    "summary += utils_functions.list_objects_in_str([s[:-1] for s in sentences])\n",
    "summary"
   ]
  }
 ],
 "metadata": {
  "kernelspec": {
   "display_name": "Python 3.8.13 ('summarization')",
   "language": "python",
   "name": "python3"
  },
  "language_info": {
   "codemirror_mode": {
    "name": "ipython",
    "version": 3
   },
   "file_extension": ".py",
   "mimetype": "text/x-python",
   "name": "python",
   "nbconvert_exporter": "python",
   "pygments_lexer": "ipython3",
   "version": "3.8.13"
  },
  "orig_nbformat": 4,
  "vscode": {
   "interpreter": {
    "hash": "5030c7a638ca5bc23b0ee0c35355e99bee891de73eee4c8b4ac721e8d31354f1"
   }
  }
 },
 "nbformat": 4,
 "nbformat_minor": 2
}
